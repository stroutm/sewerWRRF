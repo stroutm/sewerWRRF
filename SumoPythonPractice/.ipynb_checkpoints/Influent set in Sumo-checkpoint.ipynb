{
 "cells": [
  {
   "cell_type": "markdown",
   "metadata": {},
   "source": [
    "# Setting the Influent in Sumo - Introductory Practice and Example"
   ]
  },
  {
   "cell_type": "code",
   "execution_count": null,
   "metadata": {},
   "outputs": [],
   "source": [
    "from dynamita.sumo import *\n",
    "\n",
    "import numpy\n",
    "import time\n",
    "import matplotlib.pyplot as plt\n",
    "%matplotlib notebook"
   ]
  },
  {
   "cell_type": "code",
   "execution_count": null,
   "metadata": {},
   "outputs": [],
   "source": [
    "sumo = Sumo(sumoPath=\"C:/Users/Sara/AppData/Local/Dynamita/Sumo19\",\n",
    "           licenseFile=r\"C:/Users/Sara/Desktop/sewerWRRF/networklicense.sumolic\")"
   ]
  },
  {
   "cell_type": "code",
   "execution_count": null,
   "metadata": {},
   "outputs": [],
   "source": [
    "def datacomm_callback(sumo):\n",
    "    t.append(sumo.core.csumo_var_get_time_double(sumo.handle))\n",
    "    snhx_effl.append(sumo.core.csumo_var_get_pvtarray_pos(sumo.handle, snhx_effl_pos, 0))\n",
    "    xtss_effl.append(sumo.core.csumo_var_get_pvtarray_pos(sumo.handle, xtss_effl_pos, 0))\n",
    "    return 0"
   ]
  }
 ],
 "metadata": {
  "kernelspec": {
   "display_name": "Python 3",
   "language": "python",
   "name": "python3"
  },
  "language_info": {
   "codemirror_mode": {
    "name": "ipython",
    "version": 3
   },
   "file_extension": ".py",
   "mimetype": "text/x-python",
   "name": "python",
   "nbconvert_exporter": "python",
   "pygments_lexer": "ipython3",
   "version": "3.7.4"
  }
 },
 "nbformat": 4,
 "nbformat_minor": 2
}
