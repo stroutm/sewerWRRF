{
 "cells": [
  {
   "cell_type": "code",
   "execution_count": 1,
   "metadata": {},
   "outputs": [],
   "source": [
    "import numpy as np\n",
    "import pandas as pd\n",
    "import matplotlib.pyplot as plt"
   ]
  },
  {
   "cell_type": "code",
   "execution_count": 47,
   "metadata": {},
   "outputs": [],
   "source": [
    "# Set as 0 if using results from no control simulation\n",
    "# Set as 1 if using results from control, flow/TSS load simulation\n",
    "# Set as 2 if using results from control, flow simulation\n",
    "# Set as 3 if using results from control, TSS load simulation\n",
    "save = [0,2,3]\n",
    "\n",
    "stormNo = '2'\n",
    "\n",
    "controlNo = ['0','05','05']"
   ]
  },
  {
   "cell_type": "code",
   "execution_count": null,
   "metadata": {},
   "outputs": [],
   "source": [
    "fig, axes = plt.subplots(1,3, figsize=(15,7))\n",
    "xlim1 = 15; xlim2 = 27\n",
    "\n",
    "for i in range(0,len(save)):\n",
    "    # Load storm event data (LBC results, for sewer subsection only)\n",
    "    # WRRF flow is in units of cubic feet/sec\n",
    "    # WRRF TSS load is in units of lb/sec\n",
    "    # WRRF TSS concentration is in units of mg/L\n",
    "    \n",
    "    if save[i] == 0:\n",
    "        r_stormTSV = '../data/storm'+stormNo+'_nc_influent.tsv'\n",
    "        storm = pd.read_table(r_stormTSV, sep='\\t')\n",
    "        plotlabel = 'No control'\n",
    "    elif save[i] == 1:\n",
    "        r_stormTSV = '../data/storm'+stormNo+'_c_both_'+controlNo[i]+'_influent.tsv'\n",
    "        storm = pd.read_table(r_stormTSV, sep='\\t')\n",
    "        plotlabel = 'Both control, Sim'+controlNo[i]\n",
    "    elif save[i] == 2:\n",
    "        r_stormTSV = '../data/storm'+stormNo+'_c_flow_'+controlNo[i]+'_influent.tsv'\n",
    "        storm = pd.read_table(r_stormTSV, sep='\\t')\n",
    "        plotlabel = 'Flow control, Sim'+controlNo[i]\n",
    "    elif save[i] == 3:\n",
    "        r_stormTSV = '../data/storm'+stormNo+'_c_TSS_'+controlNo[i]+'_influent.tsv'\n",
    "        storm = pd.read_table(r_stormTSV, sep='\\t')\n",
    "        plotlabel = 'TSS control, Sim'+controlNo[i]\n",
    "    \n",
    "    axes[0].plot(storm[\"Sumo__Time\"].values, storm[\"Sumo__Plant__Influent__param__Q\"].values, \n",
    "            label=plotlabel)\n",
    "    \n",
    "    axes[1].plot(storm[\"Sumo__Time\"].values, \n",
    "                 np.multiply(storm[\"Sumo__Plant__Influent__param__Q\"].values,storm[\"Sumo__Plant__Influent__param__TP\"].values)/1000, \n",
    "            label=plotlabel)\n",
    "    \n",
    "    axes[2].plot(storm[\"Sumo__Time\"].values, storm[\"Sumo__Plant__Influent__param__TP\"].values, \n",
    "            label=plotlabel)\n",
    "\n",
    "axes[0].set_xlabel('Time (days)')\n",
    "axes[0].set_ylabel('q (m3/d)')\n",
    "axes[0].set_xlim(xlim1,xlim2)\n",
    "#axes[0].set_ylim(0,7000000)\n",
    "axes[0].legend()\n",
    "\n",
    "axes[1].set_xlabel('Time (days)')\n",
    "axes[1].set_ylabel('TP Load (kg/d)')\n",
    "axes[1].set_xlim(xlim1,xlim2)\n",
    "#axes[1].set_ylim(0.,1.5)\n",
    "#axes[1].legend()\n",
    "\n",
    "axes[2].set_xlabel('Time (days)')\n",
    "axes[2].set_ylabel('TP Conc (mg/L)')\n",
    "axes[2].set_xlim(xlim1,xlim2)\n",
    "#axes[2].set_ylim(0.,1.5)\n",
    "#axes[2].legend()"
   ]
  },
  {
   "cell_type": "code",
   "execution_count": null,
   "metadata": {},
   "outputs": [],
   "source": []
  }
 ],
 "metadata": {
  "kernelspec": {
   "display_name": "Python 3",
   "language": "python",
   "name": "python3"
  },
  "language_info": {
   "codemirror_mode": {
    "name": "ipython",
    "version": 3
   },
   "file_extension": ".py",
   "mimetype": "text/x-python",
   "name": "python",
   "nbconvert_exporter": "python",
   "pygments_lexer": "ipython3",
   "version": "3.7.4"
  }
 },
 "nbformat": 4,
 "nbformat_minor": 2
}
