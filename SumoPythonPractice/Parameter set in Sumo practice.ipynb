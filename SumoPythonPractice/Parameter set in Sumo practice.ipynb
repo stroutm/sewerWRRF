{
 "cells": [
  {
   "cell_type": "markdown",
   "metadata": {},
   "source": [
    "# Setting the Influent in Sumo - Introductory Practice and Example"
   ]
  },
  {
   "cell_type": "markdown",
   "metadata": {},
   "source": [
    "Import relevant libraries"
   ]
  },
  {
   "cell_type": "code",
   "execution_count": 1,
   "metadata": {},
   "outputs": [],
   "source": [
    "from dynamita.sumo import *\n",
    "\n",
    "import numpy\n",
    "import time\n",
    "import copy as cp\n",
    "import matplotlib.pyplot as plt\n",
    "%matplotlib notebook"
   ]
  },
  {
   "cell_type": "code",
   "execution_count": 2,
   "metadata": {},
   "outputs": [
    {
     "name": "stdout",
     "output_type": "stream",
     "text": [
      "License OK...\n"
     ]
    }
   ],
   "source": [
    "sumo = Sumo(sumoPath=\"C:/Users/Sara/AppData/Local/Dynamita/Sumo19\",\n",
    "           licenseFile=r\"C:/Users/Sara/Desktop/sewerWRRF/networklicense.sumolic\")"
   ]
  },
  {
   "cell_type": "code",
   "execution_count": 3,
   "metadata": {},
   "outputs": [],
   "source": [
    "unchanged = 1\n",
    "changed = 1"
   ]
  },
  {
   "cell_type": "markdown",
   "metadata": {},
   "source": [
    "### Run with unchanged model variables"
   ]
  },
  {
   "cell_type": "code",
   "execution_count": 4,
   "metadata": {},
   "outputs": [
    {
     "name": "stdout",
     "output_type": "stream",
     "text": [
      "No model is loaded\n"
     ]
    }
   ],
   "source": [
    "if unchanged == 1:\n",
    "    \n",
    "    def datacomm_callback(sumo):\n",
    "        t_noset.append(sumo.core.csumo_var_get_time_double(sumo.handle))\n",
    "        snhx_cstr_noset.append(sumo.core.csumo_var_get_pvtarray_pos(sumo.handle, snhx_cstr_pos, 0))\n",
    "        snhx_effl_noset.append(sumo.core.csumo_var_get_pvt_pos(sumo.handle, snhx_effl_pos))\n",
    "        xtss_effl_noset.append(sumo.core.csumo_var_get_pvt_pos(sumo.handle, xtss_effl_pos))\n",
    "        snhx_infl_noset.append(sumo.core.csumo_var_get_pvt_pos(sumo.handle, snhx_infl_pos))\n",
    "        return 0\n",
    "    \n",
    "    sumo.unload_model()\n",
    "    sumo.load_model('Sumo_Models/A2O plant.sumo')\n",
    "    \n",
    "    sumo.core.csumo_command_send(sumo.handle, b'execute script_Initialize_A2O.scs;')\n",
    "    \n",
    "    sumo.register_datacomm_callback(datacomm_callback)\n",
    "    \n",
    "    snhx_cstr_pos = sumo.core.csumo_model_get_variable_info_pos(sumo.handle, b'Sumo__Plant__CSTR__SNHx')\n",
    "    snhx_effl_pos = sumo.core.csumo_model_get_variable_info_pos(sumo.handle, b'Sumo__Plant__Effluent__SNHx')\n",
    "    xtss_effl_pos = sumo.core.csumo_model_get_variable_info_pos(sumo.handle, b'Sumo__Plant__Effluent__XTSS')\n",
    "    snhx_infl_pos = sumo.core.csumo_model_get_variable_info_pos(sumo.handle, b'Sumo__Plant__Influent__SNHx')\n",
    "    \n",
    "    sumo.set_stopTime(10*24*60*60*1000)\n",
    "    sumo.set_dataComm(50*60*1000)\n",
    "    \n",
    "    t_noset = []\n",
    "    snhx_cstr_noset = []\n",
    "    snhx_effl_noset = []\n",
    "    xtss_effl_noset = []\n",
    "    snhx_infl_noset = []\n",
    "    \n",
    "    sumo.run_model()\n",
    "    while not sumo.simulation_finished:\n",
    "        time.sleep(0.01)\n",
    "        \n",
    "    snhx_cstr_noset_cp = cp.deepcopy(snhx_cstr_noset)\n",
    "    snhx_effl_noset_cp = cp.deepcopy(snhx_effl_noset)\n",
    "    xtss_effl_noset_cp = cp.deepcopy(xtss_effl_noset)\n",
    "    snhx_infl_noset_cp = cp.deepcopy(snhx_infl_noset)\n",
    "    t_noset_cp = cp.deepcopy(t_noset)"
   ]
  },
  {
   "cell_type": "markdown",
   "metadata": {},
   "source": [
    "### Changing mu_NITO parameter"
   ]
  },
  {
   "cell_type": "code",
   "execution_count": 5,
   "metadata": {},
   "outputs": [
    {
     "ename": "PermissionError",
     "evalue": "[WinError 5] Access is denied: 'C:\\\\Users\\\\Sara\\\\AppData\\\\Local\\\\Temp\\\\tmpe11lyu7o\\\\sumoproject.dll'",
     "output_type": "error",
     "traceback": [
      "\u001b[1;31m---------------------------------------------------------------------------\u001b[0m",
      "\u001b[1;31mPermissionError\u001b[0m                           Traceback (most recent call last)",
      "\u001b[1;32m<ipython-input-5-df36810c0fee>\u001b[0m in \u001b[0;36m<module>\u001b[1;34m\u001b[0m\n\u001b[0;32m      8\u001b[0m         \u001b[1;32mreturn\u001b[0m \u001b[1;36m0\u001b[0m\u001b[1;33m\u001b[0m\u001b[1;33m\u001b[0m\u001b[0m\n\u001b[0;32m      9\u001b[0m \u001b[1;33m\u001b[0m\u001b[0m\n\u001b[1;32m---> 10\u001b[1;33m     \u001b[0msumo\u001b[0m\u001b[1;33m.\u001b[0m\u001b[0munload_model\u001b[0m\u001b[1;33m(\u001b[0m\u001b[1;33m)\u001b[0m\u001b[1;33m\u001b[0m\u001b[1;33m\u001b[0m\u001b[0m\n\u001b[0m\u001b[0;32m     11\u001b[0m     \u001b[0msumo\u001b[0m\u001b[1;33m.\u001b[0m\u001b[0mload_model\u001b[0m\u001b[1;33m(\u001b[0m\u001b[1;34m'Sumo_Models/A2O plant.sumo'\u001b[0m\u001b[1;33m)\u001b[0m\u001b[1;33m\u001b[0m\u001b[1;33m\u001b[0m\u001b[0m\n\u001b[0;32m     12\u001b[0m \u001b[1;33m\u001b[0m\u001b[0m\n",
      "\u001b[1;32m~\\Anaconda3_32\\lib\\site-packages\\sumo-0.1-py3.7.egg\\dynamita\\sumo.py\u001b[0m in \u001b[0;36munload_model\u001b[1;34m(self)\u001b[0m\n\u001b[0;32m    138\u001b[0m             \u001b[1;32mreturn\u001b[0m\u001b[1;33m\u001b[0m\u001b[1;33m\u001b[0m\u001b[0m\n\u001b[0;32m    139\u001b[0m         \u001b[0mself\u001b[0m\u001b[1;33m.\u001b[0m\u001b[0mcore\u001b[0m\u001b[1;33m.\u001b[0m\u001b[0mcsumo_model_unload\u001b[0m\u001b[1;33m(\u001b[0m\u001b[0mself\u001b[0m\u001b[1;33m.\u001b[0m\u001b[0mhandle\u001b[0m\u001b[1;33m)\u001b[0m\u001b[1;33m\u001b[0m\u001b[1;33m\u001b[0m\u001b[0m\n\u001b[1;32m--> 140\u001b[1;33m         \u001b[0mshutil\u001b[0m\u001b[1;33m.\u001b[0m\u001b[0mrmtree\u001b[0m\u001b[1;33m(\u001b[0m\u001b[0mself\u001b[0m\u001b[1;33m.\u001b[0m\u001b[0mtempdir\u001b[0m\u001b[1;33m)\u001b[0m\u001b[1;33m\u001b[0m\u001b[1;33m\u001b[0m\u001b[0m\n\u001b[0m\u001b[0;32m    141\u001b[0m         \u001b[0mself\u001b[0m\u001b[1;33m.\u001b[0m\u001b[0mmodel_loaded\u001b[0m \u001b[1;33m=\u001b[0m \u001b[1;32mFalse\u001b[0m\u001b[1;33m\u001b[0m\u001b[1;33m\u001b[0m\u001b[0m\n\u001b[0;32m    142\u001b[0m \u001b[1;33m\u001b[0m\u001b[0m\n",
      "\u001b[1;32m~\\Anaconda3_32\\lib\\shutil.py\u001b[0m in \u001b[0;36mrmtree\u001b[1;34m(path, ignore_errors, onerror)\u001b[0m\n\u001b[0;32m    514\u001b[0m             \u001b[1;31m# can't continue even if onerror hook returns\u001b[0m\u001b[1;33m\u001b[0m\u001b[1;33m\u001b[0m\u001b[1;33m\u001b[0m\u001b[0m\n\u001b[0;32m    515\u001b[0m             \u001b[1;32mreturn\u001b[0m\u001b[1;33m\u001b[0m\u001b[1;33m\u001b[0m\u001b[0m\n\u001b[1;32m--> 516\u001b[1;33m         \u001b[1;32mreturn\u001b[0m \u001b[0m_rmtree_unsafe\u001b[0m\u001b[1;33m(\u001b[0m\u001b[0mpath\u001b[0m\u001b[1;33m,\u001b[0m \u001b[0monerror\u001b[0m\u001b[1;33m)\u001b[0m\u001b[1;33m\u001b[0m\u001b[1;33m\u001b[0m\u001b[0m\n\u001b[0m\u001b[0;32m    517\u001b[0m \u001b[1;33m\u001b[0m\u001b[0m\n\u001b[0;32m    518\u001b[0m \u001b[1;31m# Allow introspection of whether or not the hardening against symlink\u001b[0m\u001b[1;33m\u001b[0m\u001b[1;33m\u001b[0m\u001b[1;33m\u001b[0m\u001b[0m\n",
      "\u001b[1;32m~\\Anaconda3_32\\lib\\shutil.py\u001b[0m in \u001b[0;36m_rmtree_unsafe\u001b[1;34m(path, onerror)\u001b[0m\n\u001b[0;32m    398\u001b[0m                 \u001b[0mos\u001b[0m\u001b[1;33m.\u001b[0m\u001b[0munlink\u001b[0m\u001b[1;33m(\u001b[0m\u001b[0mfullname\u001b[0m\u001b[1;33m)\u001b[0m\u001b[1;33m\u001b[0m\u001b[1;33m\u001b[0m\u001b[0m\n\u001b[0;32m    399\u001b[0m             \u001b[1;32mexcept\u001b[0m \u001b[0mOSError\u001b[0m\u001b[1;33m:\u001b[0m\u001b[1;33m\u001b[0m\u001b[1;33m\u001b[0m\u001b[0m\n\u001b[1;32m--> 400\u001b[1;33m                 \u001b[0monerror\u001b[0m\u001b[1;33m(\u001b[0m\u001b[0mos\u001b[0m\u001b[1;33m.\u001b[0m\u001b[0munlink\u001b[0m\u001b[1;33m,\u001b[0m \u001b[0mfullname\u001b[0m\u001b[1;33m,\u001b[0m \u001b[0msys\u001b[0m\u001b[1;33m.\u001b[0m\u001b[0mexc_info\u001b[0m\u001b[1;33m(\u001b[0m\u001b[1;33m)\u001b[0m\u001b[1;33m)\u001b[0m\u001b[1;33m\u001b[0m\u001b[1;33m\u001b[0m\u001b[0m\n\u001b[0m\u001b[0;32m    401\u001b[0m     \u001b[1;32mtry\u001b[0m\u001b[1;33m:\u001b[0m\u001b[1;33m\u001b[0m\u001b[1;33m\u001b[0m\u001b[0m\n\u001b[0;32m    402\u001b[0m         \u001b[0mos\u001b[0m\u001b[1;33m.\u001b[0m\u001b[0mrmdir\u001b[0m\u001b[1;33m(\u001b[0m\u001b[0mpath\u001b[0m\u001b[1;33m)\u001b[0m\u001b[1;33m\u001b[0m\u001b[1;33m\u001b[0m\u001b[0m\n",
      "\u001b[1;32m~\\Anaconda3_32\\lib\\shutil.py\u001b[0m in \u001b[0;36m_rmtree_unsafe\u001b[1;34m(path, onerror)\u001b[0m\n\u001b[0;32m    396\u001b[0m         \u001b[1;32melse\u001b[0m\u001b[1;33m:\u001b[0m\u001b[1;33m\u001b[0m\u001b[1;33m\u001b[0m\u001b[0m\n\u001b[0;32m    397\u001b[0m             \u001b[1;32mtry\u001b[0m\u001b[1;33m:\u001b[0m\u001b[1;33m\u001b[0m\u001b[1;33m\u001b[0m\u001b[0m\n\u001b[1;32m--> 398\u001b[1;33m                 \u001b[0mos\u001b[0m\u001b[1;33m.\u001b[0m\u001b[0munlink\u001b[0m\u001b[1;33m(\u001b[0m\u001b[0mfullname\u001b[0m\u001b[1;33m)\u001b[0m\u001b[1;33m\u001b[0m\u001b[1;33m\u001b[0m\u001b[0m\n\u001b[0m\u001b[0;32m    399\u001b[0m             \u001b[1;32mexcept\u001b[0m \u001b[0mOSError\u001b[0m\u001b[1;33m:\u001b[0m\u001b[1;33m\u001b[0m\u001b[1;33m\u001b[0m\u001b[0m\n\u001b[0;32m    400\u001b[0m                 \u001b[0monerror\u001b[0m\u001b[1;33m(\u001b[0m\u001b[0mos\u001b[0m\u001b[1;33m.\u001b[0m\u001b[0munlink\u001b[0m\u001b[1;33m,\u001b[0m \u001b[0mfullname\u001b[0m\u001b[1;33m,\u001b[0m \u001b[0msys\u001b[0m\u001b[1;33m.\u001b[0m\u001b[0mexc_info\u001b[0m\u001b[1;33m(\u001b[0m\u001b[1;33m)\u001b[0m\u001b[1;33m)\u001b[0m\u001b[1;33m\u001b[0m\u001b[1;33m\u001b[0m\u001b[0m\n",
      "\u001b[1;31mPermissionError\u001b[0m: [WinError 5] Access is denied: 'C:\\\\Users\\\\Sara\\\\AppData\\\\Local\\\\Temp\\\\tmpe11lyu7o\\\\sumoproject.dll'"
     ]
    }
   ],
   "source": [
    "if changed == 1:\n",
    "    def datacomm_callback(sumo):\n",
    "        t_set.append(sumo.core.csumo_var_get_time_double(sumo.handle))\n",
    "        snhx_cstr_set.append(sumo.core.csumo_var_get_pvtarray_pos(sumo.handle, snhx_cstr_pos, 0))\n",
    "        snhx_effl_set.append(sumo.core.csumo_var_get_pvt_pos(sumo.handle, snhx_effl_pos))\n",
    "        xtss_effl_set.append(sumo.core.csumo_var_get_pvt_pos(sumo.handle, xtss_effl_pos))\n",
    "        snhx_infl_set.append(sumo.core.csumo_var_get_pvt_pos(sumo.handle, snhx_infl_pos))\n",
    "        return 0\n",
    "    \n",
    "    sumo.unload_model()\n",
    "    sumo.load_model('Sumo_Models/A2O plant.sumo')\n",
    "    \n",
    "    sumo.core.csumo_command_send(sumo.handle, b'execute script_Initialize_A2O.scs;')\n",
    "    \n",
    "    sumo.register_datacomm_callback(datacomm_callback)\n",
    "    \n",
    "    snhx_cstr_pos = sumo.core.csumo_model_get_variable_info_pos(sumo.handle, b'Sumo__Plant__CSTR__SNHx')\n",
    "    snhx_effl_pos = sumo.core.csumo_model_get_variable_info_pos(sumo.handle, b'Sumo__Plant__Effluent__SNHx')\n",
    "    xtss_effl_pos = sumo.core.csumo_model_get_variable_info_pos(sumo.handle, b'Sumo__Plant__Effluent__XTSS')\n",
    "    snhx_infl_pos = sumo.core.csumo_model_get_variable_info_pos(sumo.handle, b'Sumo__Plant__Influent__SNHx')\n",
    "    \n",
    "    # Set variables in model\n",
    "    command = 'set Sumo__Plant__param__Sumo1__muNITO 1.95;'\n",
    "    \n",
    "    sumo.core.csumo_command_send(sumo.handle, command.encode('utf8'))\n",
    "    \n",
    "    sumo.set_stopTime(10*24*60*60*1000)\n",
    "    sumo.set_dataComm(50*60*1000)\n",
    "    \n",
    "    t_set = []\n",
    "    snhx_cstr_set = []\n",
    "    snhx_effl_set = []\n",
    "    xtss_effl_set = []\n",
    "    snhx_infl_set = []\n",
    "    \n",
    "    sumo.run_model()\n",
    "    while not sumo.simulation_finished:\n",
    "        time.sleep(0.01)\n",
    "    \n",
    "    snhx_cstr_set_cp = cp.deepcopy(snhx_cstr_set)\n",
    "    snhx_effl_set_cp = cp.deepcopy(snhx_effl_set)\n",
    "    xtss_effl_set_cp = cp.deepcopy(xtss_effl_set)\n",
    "    snhx_infl_set_cp = cp.deepcopy(snhx_infl_set)\n",
    "    t_set_cp = cp.deepcopy(t_set)"
   ]
  },
  {
   "cell_type": "code",
   "execution_count": null,
   "metadata": {},
   "outputs": [],
   "source": [
    "fig, (axs) = plt.subplots(1,3, figsize=(14,4))\n",
    "\n",
    "if unchanged == 1:\n",
    "    axs[0].plot(t_noset_cp, snhx_effl_noset_cp, label='Unchanged')\n",
    "    axs[1].plot(t_noset_cp, xtss_effl_noset_cp, label='Unchanged')\n",
    "    axs[2].plot(t_noset_cp, snhx_cstr_noset_cp, label='Unchanged')\n",
    "\n",
    "if changed == 1:\n",
    "    axs[0].plot(t_set_cp, snhx_effl_set_cp, label='Changed with set')\n",
    "    axs[1].plot(t_set_cp, xtss_effl_set_cp, label='Changed with set')\n",
    "    axs[2].plot(t_set_cp, snhx_cstr_set_cp, label='Changed with set')\n",
    "\n",
    "axs[0].set_xlabel('time'); axs[0].set_ylabel('SNHx, Effluent')\n",
    "axs[1].set_xlabel('time'); axs[1].set_ylabel('XTSS, Effluent')\n",
    "axs[2].set_xlabel('time'); axs[2].set_ylabel('SNHx, CSTR')\n",
    "\n",
    "axs[0].legend()\n",
    "axs[1].legend()\n",
    "axs[2].legend()\n",
    "\n",
    "plt.rcParams['axes.grid'] = True\n",
    "plt.tight_layout()"
   ]
  },
  {
   "cell_type": "markdown",
   "metadata": {},
   "source": [
    "### Changing mu_NITO to several values"
   ]
  },
  {
   "cell_type": "code",
   "execution_count": null,
   "metadata": {},
   "outputs": [],
   "source": [
    "def datacomm_callback(sumo):\n",
    "    t_set.append(sumo.core.csumo_var_get_time_double(sumo.handle))\n",
    "    snhx_cstr_set.append(sumo.core.csumo_var_get_pvtarray_pos(sumo.handle, snhx_cstr_pos, 0))\n",
    "    snhx_effl_set.append(sumo.core.csumo_var_get_pvt_pos(sumo.handle, snhx_effl_pos))\n",
    "    xtss_effl_set.append(sumo.core.csumo_var_get_pvt_pos(sumo.handle, xtss_effl_pos))\n",
    "    snhx_infl_set.append(sumo.core.csumo_var_get_pvt_pos(sumo.handle, snhx_infl_pos))\n",
    "    return 0\n",
    "\n",
    "sumo.unload_model()\n",
    "sumo.load_model('Sumo_Models/A2O plant.sumo')\n",
    "    \n",
    "sumo.core.csumo_command_send(sumo.handle, b'execute script_Initialize.scs;')\n",
    "    \n",
    "sumo.register_datacomm_callback(datacomm_callback)\n",
    "\n",
    "def message_callback(sumo):\n",
    "    for message in sumo.messages:\n",
    "        print(message)\n",
    "    sumo.messages = []\n",
    "    return 0\n",
    "\n",
    "sumo.register_message_callback(message_callback)\n",
    "\n",
    "snhx_cstr_pos = sumo.core.csumo_model_get_variable_info_pos(sumo.handle, b'Sumo__Plant__CSTR__SNHx')\n",
    "snhx_effl_pos = sumo.core.csumo_model_get_variable_info_pos(sumo.handle, b'Sumo__Plant__Effluent__SNHx')\n",
    "xtss_effl_pos = sumo.core.csumo_model_get_variable_info_pos(sumo.handle, b'Sumo__Plant__Effluent__XTSS')\n",
    "snhx_infl_pos = sumo.core.csumo_model_get_variable_info_pos(sumo.handle, b'Sumo__Plant__Influent__SNHx')"
   ]
  },
  {
   "cell_type": "code",
   "execution_count": null,
   "metadata": {},
   "outputs": [],
   "source": [
    "snhx_sensitivity_data = {}\n",
    "sumo.set_stopTime(2*24*60*60*1000)\n",
    "sumo.set_dataComm(50*60*1000)\n",
    "for mu in [0.1, 0.95, 1.9]:\n",
    "    command = 'set Sumo__Plant__param__Sumo1__muNITO ' + str(mu) + ';'\n",
    "\n",
    "    sumo.core.csumo_command_send(sumo.handle, command.encode('utf8'))\n",
    "    \n",
    "    # Empty the lists before a simulation\n",
    "    # Otherwise, the new simulation results will just be appended\n",
    "    t_set = []\n",
    "    snhx_cstr_set = []\n",
    "    snhx_effl_set = []\n",
    "    xtss_effl_set = []\n",
    "    snhx_infl_set = []\n",
    "    \n",
    "    sumo.run_model()\n",
    "    # run_model is an asynchronous call, so wait until the current run is finished\n",
    "    # Otherwise, the simulations will get messed up\n",
    "    while not sumo.simulation_finished:\n",
    "        time.sleep(0.01)\n",
    "\n",
    "    # Store the data in a dictionary, using mu as the label\n",
    "    snhx_sensitivity_data[mu] = snhx_effl_set"
   ]
  },
  {
   "cell_type": "code",
   "execution_count": null,
   "metadata": {},
   "outputs": [],
   "source": [
    "fig, axes = plt.subplots(1,1, figsize=(14,6))\n",
    "axes.set_xlabel('time')\n",
    "axes.set_ylabel('Eff SNHx')\n",
    "\n",
    "for mu, snhx in snhx_sensitivity_data.items():\n",
    "    axes.plot(t_set, snhx, label= str(mu))\n",
    "    plt.legend(loc='upper right', title='Legend')"
   ]
  },
  {
   "cell_type": "markdown",
   "metadata": {},
   "source": [
    "### Changing influent TKN concentration\n",
    "\n",
    "**To change a parameter, you have to be able to change it from the GUI, which is why ammonium concentration cannot be changed directly.**\n",
    "\n",
    "**If you want to change ammonium, do so by changing the influent fraction.**\n",
    "\n",
    "To see all the parameters you can change, you can go to the Advanced > Core Window and expand the unit you are interested. Under each there is another node called \"param\" that lists all of the parameters for that unit. You can change those.\n",
    "\n",
    "![Image](https://github.com/zerualem/SumoPython/blob/master/a2o.png?raw=true)"
   ]
  },
  {
   "cell_type": "code",
   "execution_count": null,
   "metadata": {},
   "outputs": [],
   "source": [
    "snhx_sensitivity_data = {}\n",
    "sumo.set_stopTime(2*24*60*60*1000)\n",
    "sumo.set_dataComm(50*60*1000)\n",
    "for tkn in [1, 34.4, 50]:\n",
    "    command = 'set Sumo__Plant__Influent__param__TKN ' + str(tkn) + ';'\n",
    "\n",
    "    sumo.core.csumo_command_send(sumo.handle, command.encode('utf8'))\n",
    "    \n",
    "    t_set = []\n",
    "    snhx_cstr_set = []\n",
    "    snhx_effl_set = []\n",
    "    xtss_effl_set = []\n",
    "    snhx_infl_set = []\n",
    "    \n",
    "    sumo.run_model()\n",
    "    \n",
    "    while not sumo.simulation_finished:\n",
    "        time.sleep(0.01)\n",
    "\n",
    "    snhx_sensitivity_data[tkn] = snhx_effl_set"
   ]
  },
  {
   "cell_type": "code",
   "execution_count": null,
   "metadata": {},
   "outputs": [],
   "source": [
    "import pandas as pd\n",
    "pd.DataFrame(snhx_sensitivity_data).tail(10)"
   ]
  },
  {
   "cell_type": "code",
   "execution_count": null,
   "metadata": {},
   "outputs": [],
   "source": [
    "fig, axes = plt.subplots(1,1, figsize=(14,6))\n",
    "axes.set_xlabel('time')\n",
    "axes.set_ylabel('Eff SNHx')\n",
    "\n",
    "for tkn, snhx in snhx_sensitivity_data.items():\n",
    "    axes.plot(t_set, snhx, label= str(tkn))\n",
    "    plt.legend(loc='upper right', title='Legend')"
   ]
  },
  {
   "cell_type": "markdown",
   "metadata": {},
   "source": [
    "### Changing influent flow"
   ]
  },
  {
   "cell_type": "code",
   "execution_count": null,
   "metadata": {},
   "outputs": [],
   "source": [
    "sumo.set_stopTime(2*24*60*60*1000)\n",
    "sumo.set_dataComm(50*60*1000)\n",
    "\n",
    "q_sensitivity_data_snhx = {}\n",
    "q_sensitivity_data_xtss = {}\n",
    "\n",
    "for q in [23000, 24000, 25000]:\n",
    "    command = 'set Sumo__Plant__Influent__param__Q ' + str(q) + ';'\n",
    "\n",
    "    sumo.core.csumo_command_send(sumo.handle, command.encode('utf8'))\n",
    "    \n",
    "    t_set = []\n",
    "    snhx_cstr_set = []\n",
    "    snhx_effl_set = []\n",
    "    xtss_effl_set = []\n",
    "    snhx_infl_set = []\n",
    "    \n",
    "    sumo.run_model()\n",
    "    \n",
    "    while not sumo.simulation_finished:\n",
    "        time.sleep(0.01)\n",
    "\n",
    "    q_sensitivity_data_snhx[q] = snhx_effl_set\n",
    "    q_sensitivity_data_xtss[q] = xtss_effl_set"
   ]
  },
  {
   "cell_type": "code",
   "execution_count": null,
   "metadata": {},
   "outputs": [],
   "source": [
    "import pandas as pd\n",
    "pd.DataFrame(q_sensitivity_data_snhx).tail(10)"
   ]
  },
  {
   "cell_type": "code",
   "execution_count": null,
   "metadata": {},
   "outputs": [],
   "source": [
    "fig, axes = plt.subplots(1,2, figsize=(14,6))\n",
    "\n",
    "axes[0].set_xlabel('time')\n",
    "axes[0].set_ylabel('Eff SNHx')\n",
    "\n",
    "axes[1].set_xlabel('time')\n",
    "axes[1].set_ylabel('Eff XTSS')\n",
    "\n",
    "for q, snhx in q_sensitivity_data_snhx.items():\n",
    "    axes[0].plot(t_set, snhx, label=str(q))\n",
    "    #plt.legend(loc='upper right', title='Legend')\n",
    "\n",
    "for q, xtss in q_sensitivity_data_xtss.items():\n",
    "    axes[1].plot(t_set, xtss, label=str(q))\n",
    "    plt.legend(loc='upper right', title='Legend')"
   ]
  },
  {
   "cell_type": "code",
   "execution_count": null,
   "metadata": {},
   "outputs": [],
   "source": []
  }
 ],
 "metadata": {
  "kernelspec": {
   "display_name": "Python 3",
   "language": "python",
   "name": "python3"
  },
  "language_info": {
   "codemirror_mode": {
    "name": "ipython",
    "version": 3
   },
   "file_extension": ".py",
   "mimetype": "text/x-python",
   "name": "python",
   "nbconvert_exporter": "python",
   "pygments_lexer": "ipython3",
   "version": "3.7.4"
  }
 },
 "nbformat": 4,
 "nbformat_minor": 2
}
