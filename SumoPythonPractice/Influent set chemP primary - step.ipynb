{
 "cells": [
  {
   "cell_type": "code",
   "execution_count": 1,
   "metadata": {},
   "outputs": [],
   "source": [
    "# Import libraries\n",
    "from dynamita.sumo import *\n",
    "\n",
    "import numpy as np\n",
    "import time\n",
    "import copy as cp\n",
    "import pandas as pd\n",
    "import matplotlib.pyplot as plt\n",
    "%matplotlib notebook"
   ]
  },
  {
   "cell_type": "code",
   "execution_count": 2,
   "metadata": {},
   "outputs": [],
   "source": [
    "%matplotlib notebook"
   ]
  },
  {
   "cell_type": "code",
   "execution_count": 3,
   "metadata": {},
   "outputs": [
    {
     "name": "stdout",
     "output_type": "stream",
     "text": [
      "License OK...\n"
     ]
    }
   ],
   "source": [
    "# Specify path where Sumo is found and Sumo license\n",
    "sumo = Sumo(sumoPath=\"C:/Users/Sara/AppData/Local/Dynamita/Sumo19\",\n",
    "           licenseFile=r\"C:/Users/Sara/Desktop/sewerWRRF/networklicense.sumolic\")"
   ]
  },
  {
   "cell_type": "markdown",
   "metadata": {},
   "source": [
    "To load and run a dynamic input:\n",
    "1. Save the dynamic input(s) in a .tsv file.\n",
    "  - To make this easy, you can first do it from the Sumo GUI. This will create a .tsv file in the project's temporary directory (View > Directories > Project Directory) and \"loadtsv ...\" will be logged in the Core Window.\n",
    "2. Copy the new initialization script and dynamic influent .tsv file into the working folder.\n",
    "3. Make sure the command \"loadtsv ... xxx.tsv\" is in the initialization script. \n",
    "  - If it is not there, find it in the Core Window and paste it into the initialization script (the one in the working folder). It shouldn't matter where it is in the script.\n",
    "  - Make sure the .tsv file path is updated to the working folder.\n",
    "  - This step can also be done via calls in Python: `command = 'loadtsv '+ TSV +' ;'` and `sumo.core.csumo_command_send(sumo.handle, command.encode('utf8'))` where `TSV` is the .tsv file."
   ]
  },
  {
   "cell_type": "code",
   "execution_count": 4,
   "metadata": {},
   "outputs": [
    {
     "name": "stdout",
     "output_type": "stream",
     "text": [
      "No model is loaded\n",
      "530021 Set: Sumo__StopTime to 0\n",
      "530021 Set: Sumo__DataComm to 3600000\n",
      "530021 Set: Sumo__PlantName to C:\\Users\\Sara\\AppData\\Local\\Dynamita\\Sumo19\\.tmp\\y05dp2bq.ked\\sumoproject.xml\n",
      "530049 Core loop started.\n",
      "530036 Script file script_Initialize_chemP_primary.scs loaded.\n",
      "530007 Path set to: \"C:/Users/Sara/AppData/Local/Dynamita/Sumo19/.tmp/akhla3gs.s2z\".\n",
      "530020 Set mode: dynamic\n",
      "530021 Set: Sumo__Plant__Primary1__param__fXTSS_sludge to 0.7\n",
      "530021 Set: Sumo__Plant__Primary1__param__Qsludge_target to 20000\n",
      "530030 TSV file \"C:/Users/Sara/AppData/Local/Dynamita/Sumo19/.tmp/akhla3gs.s2z/Primary1_MeasTSSRem.tsv\" loaded.\n",
      "530021 Set: Sumo__Plant__Influent__param__Q to 2.1e+06\n",
      "530021 Set: Sumo__Plant__Influent__param__TCOD to 210\n",
      "530021 Set: Sumo__Plant__Influent__param__TKN to 20\n",
      "530021 Set: Sumo__Plant__Influent__param__TP to 2.2\n",
      "530021 Set: Sumo__Plant__Influent__param__frVSS_TSS to 0.761\n",
      "530021 Set: Sumo__Plant__Influent__param__frSCCOD_TCOD to 0.407\n",
      "530021 Set: Sumo__Plant__Influent__param__frSCOD_TCOD to 0.366\n",
      "530021 Set: Sumo__Plant__Influent__param__frSU_SCCOD to 0.249\n",
      "530021 Set: Sumo__Plant__Influent__param__frXU_TCOD to 0.046\n",
      "530021 Set: Sumo__Plant__Influent__param__frSPO4_TP to 0.533\n",
      "530030 TSV file \"C:/Users/Sara/AppData/Local/Dynamita/Sumo19/.tmp/akhla3gs.s2z/Influent_.tsv\" loaded.\n",
      "530030 TSV file \"C:/Users/Sara/AppData/Local/Dynamita/Sumo19/.tmp/akhla3gs.s2z/Influent_OrigFrac.tsv\" loaded.\n",
      "530021 Set: Sumo__Plant__Metal1__param__Femass to 1e+07\n",
      "530030 TSV file \"C:/Users/Sara/AppData/Local/Dynamita/Sumo19/.tmp/akhla3gs.s2z/Metal1_Meas.tsv\" loaded.\n",
      "530021 Set: Sumo__Plant__CSTR19__param__L_V to 2.5e+06\n",
      "530021 Set: Sumo__Plant__CSTR19__param__Qair_N to 0\n",
      "530021 Set: Sumo__StopTime to 4320000000\n",
      "530021 Set: Sumo__DataComm to 3000000\n"
     ]
    }
   ],
   "source": [
    "# Unload any models and load Sumo model of interest\n",
    "sumo.unload_model()\n",
    "sumo.load_model('Sumo_Models/SUMO Model 03_recreated_additionChemP_primary.sumo')\n",
    "\n",
    "# Specify initialization script for Sumo model included above\n",
    "sumo.core.csumo_command_send(sumo.handle, b'execute script_Initialize_chemP_primary.scs;')\n",
    "\n",
    "# Write commands for pulling and storing Sumo variables based on variable positions\n",
    "# Note that these variables will be initiated as empty lists (e.g., t_set = []) and populated throughout the simulation\n",
    "def datacomm_callback(sumo):\n",
    "    # Simulation time step\n",
    "    t_set.append(sumo.core.csumo_var_get_time_double(sumo.handle))\n",
    "    \n",
    "    # Influent flow\n",
    "    q_infl_set.append(sumo.core.csumo_var_get_pvt_pos(sumo.handle, q_infl_pos))\n",
    "    # Influent ammonia (SNHx) concentration\n",
    "    snhx_infl_set.append(sumo.core.csumo_var_get_pvt_pos(sumo.handle, snhx_infl_pos))\n",
    "    # Influent total suspended solids (XTSS) concentration\n",
    "    xtss_infl_set.append(sumo.core.csumo_var_get_pvt_pos(sumo.handle, xtss_infl_pos))\n",
    "    \n",
    "    # Effluent flow\n",
    "    q_effl_set.append(sumo.core.csumo_var_get_pvt_pos(sumo.handle, q_effl_pos))\n",
    "    # Effluent ammonia (SNHx) concentration\n",
    "    snhx_effl_set.append(sumo.core.csumo_var_get_pvt_pos(sumo.handle, snhx_effl_pos))\n",
    "    # Effluent total suspended solids (XTSS) concentration\n",
    "    xtss_effl_set.append(sumo.core.csumo_var_get_pvt_pos(sumo.handle, xtss_effl_pos))\n",
    "    \n",
    "    return 0\n",
    "\n",
    "sumo.register_datacomm_callback(datacomm_callback)\n",
    "\n",
    "# Write function for printing Sumo commands (e.g., initiating and running model simulations)\n",
    "def message_callback(sumo):\n",
    "    for message in sumo.messages:\n",
    "        print(message)\n",
    "    sumo.messages = []\n",
    "    return 0\n",
    "\n",
    "sumo.register_message_callback(message_callback)\n",
    "\n",
    "# Specify the length of the simulation and the frequency at which variables will be reported\n",
    "# These are provided in milliseconds\n",
    "sumo.set_stopTime(50*24*60*60*1000)\n",
    "sumo.set_dataComm(50*60*1000)"
   ]
  },
  {
   "cell_type": "code",
   "execution_count": null,
   "metadata": {},
   "outputs": [],
   "source": [
    "# Store positions for variables of interest\n",
    "q_infl_pos = sumo.core.csumo_model_get_variable_info_pos(sumo.handle, b'Sumo__Plant__Influent__Q')\n",
    "snhx_infl_pos = sumo.core.csumo_model_get_variable_info_pos(sumo.handle, b'Sumo__Plant__Influent__SNHx')\n",
    "xtss_infl_pos = sumo.core.csumo_model_get_variable_info_pos(sumo.handle, b'Sumo__Plant__Influent__XTSS')\n",
    "\n",
    "q_effl_pos = sumo.core.csumo_model_get_variable_info_pos(sumo.handle, b'Sumo__Plant__Effluent__Q')\n",
    "snhx_effl_pos = sumo.core.csumo_model_get_variable_info_pos(sumo.handle, b'Sumo__Plant__Effluent__SNHx')\n",
    "xtss_effl_pos = sumo.core.csumo_model_get_variable_info_pos(sumo.handle, b'Sumo__Plant__Effluent__XTSS')"
   ]
  },
  {
   "cell_type": "code",
   "execution_count": null,
   "metadata": {},
   "outputs": [],
   "source": [
    "# Specify .tsv for reading the steady-state influent data\n",
    "r_influentTSV = 'C:/Users/Sara/Desktop/sewerWRRF/SumoPythonPractice/Influent_Tables/Influent_Table_chemP_primary_base.tsv'\n",
    "w_influentTSV = 'C:/Users/Sara/Desktop/sewerWRRF/SumoPythonPractice/Influent_Tables/Influent_Table_chemP_primary_step.tsv'"
   ]
  },
  {
   "cell_type": "code",
   "execution_count": null,
   "metadata": {},
   "outputs": [],
   "source": [
    "r_influentTSV_data = pd.read_table(r_influentTSV, sep='\\t')\n",
    "\n",
    "for i in range(0,50):\n",
    "    r_influentTSV_data.loc[i][\"Sumo__Plant__Influent__param__Q\"] = 2100000\n",
    "    r_influentTSV_data\n",
    "    \n",
    "# Write the changed .tsv file to a new file\n",
    "with open(w_influentTSV,'w') as write_tsv:\n",
    "    write_tsv.write(r_influentTSV_data.to_csv(sep='\\t', index=False))\n",
    "\n",
    "# Load changed .tsv file to Sumo\n",
    "command = 'loadtsv '+ w_influentTSV +' ;'\n",
    "sumo.core.csumo_command_send(sumo.handle, command.encode('utf8'))"
   ]
  },
  {
   "cell_type": "code",
   "execution_count": null,
   "metadata": {},
   "outputs": [],
   "source": [
    "# Initiate lists for variables to store\n",
    "# These must correspond to those specified in 'datacomm_callback'\n",
    "t_set = []\n",
    "q_infl_set = []\n",
    "snhx_infl_set = []\n",
    "xtss_infl_set = []\n",
    "\n",
    "q_effl_set = []\n",
    "snhx_effl_set = []\n",
    "xtss_effl_set = []\n",
    "\n",
    "# Run Sumo model simulation\n",
    "sumo.run_model()\n",
    "\n",
    "# Sleep until the simulation is complete\n",
    "while not sumo.simulation_finished:\n",
    "    time.sleep(0.01)"
   ]
  },
  {
   "cell_type": "code",
   "execution_count": null,
   "metadata": {},
   "outputs": [],
   "source": [
    "# Build dictionary to store variables\n",
    "# Note '_base' denotes steady-state influent conditions\n",
    "data_base = {}\n",
    "data_base['t'] = t_set\n",
    "data_base['q_infl'] = q_infl_set\n",
    "data_base['snhx_infl'] = snhx_infl_set\n",
    "data_base['xtss_infl'] = xtss_infl_set\n",
    "data_base['q_effl'] = q_effl_set\n",
    "data_base['snhx_effl'] = snhx_effl_set\n",
    "data_base['xtss_effl'] = xtss_effl_set\n",
    "\n",
    "# Build pandas dataframe to store variables dictionary\n",
    "df_base = pd.DataFrame.from_dict(data_base)\n",
    "# Set index in dataframe to the time (t) column\n",
    "df_base.set_index('t')"
   ]
  },
  {
   "cell_type": "markdown",
   "metadata": {},
   "source": [
    "### Change influent step value"
   ]
  },
  {
   "cell_type": "code",
   "execution_count": null,
   "metadata": {},
   "outputs": [],
   "source": [
    "# Specify .tsv for reading (r) diurnal influent data and writing (w) changes to a new file\n",
    "r_influentTSV = 'C:/Users/Sara/Desktop/sewerWRRF/SumoPythonPractice/Influent_Tables/Influent_Table_chemP_primary_base.tsv'\n",
    "w_influentTSV = 'C:/Users/Sara/Desktop/sewerWRRF/SumoPythonPractice/Influent_Tables/Influent_Table_chemP_primary_step.tsv'\n",
    "\n",
    "# Read the original .tsv file as a pandas table\n",
    "r_influentTSV_data = pd.read_table(r_influentTSV, sep='\\t')\n",
    "\n",
    "# Specify magnitude of step increases in influent flow\n",
    "# Step increase will occur at (and continue after) simulation time step 9\n",
    "# Steady-state (unchanged) is 24000 m^3/d\n",
    "stepMags = [2300000]"
   ]
  },
  {
   "cell_type": "markdown",
   "metadata": {},
   "source": [
    "We are interested if step increases in influent flow scale linearly (or otherwise) to effluent variables (e.g., flow, SNHx concentration). We will initiate lists to see the response in influent flow, effluent flow, effluent SNHx concentration (e.g., q_infl_diff) with these step increases. These will be populated for each stepMags value with e.g.\n",
    "\n",
    "max(df_small['q_infl'] - df_base['q_infl'])\n",
    "\n",
    "where\n",
    "- df_small['q_infl']: timeseries for influent flow with the step increase in influent\n",
    "- df_base['q_infl']: timeseries for influent flow in the steady-state case\n",
    "- df_small['q_infl'] - df_base['q_infl']: difference between these two timeseries and thus brings this down to zero\n",
    "- max(df_small['q_infl'] - df_base['q_infl']): maximum of this difference since the step increase typically creates a peaked response"
   ]
  },
  {
   "cell_type": "code",
   "execution_count": null,
   "metadata": {},
   "outputs": [],
   "source": [
    "q_infl_diff = [0]\n",
    "q_effl_diff = [0]\n",
    "snhx_effl_diff = [0]"
   ]
  },
  {
   "cell_type": "code",
   "execution_count": null,
   "metadata": {},
   "outputs": [],
   "source": [
    "for j in stepMags:\n",
    "    print('Step magnitude: ' + str(j) + '\\n')\n",
    "    \n",
    "    # Make a change to the original .tsv file\n",
    "    for i in range(0,20):\n",
    "        r_influentTSV_data.loc[i][\"Sumo__Plant__Influent__param__Q\"] = 2100000\n",
    "        r_influentTSV_data\n",
    "    \n",
    "    for i in range(20,50):\n",
    "        r_influentTSV_data.loc[i][\"Sumo__Plant__Influent__param__Q\"] = j\n",
    "        r_influentTSV_data\n",
    "        \n",
    "    # Write the changed .tsv file to a new file\n",
    "    with open(w_influentTSV,'w') as write_tsv:\n",
    "        write_tsv.write(r_influentTSV_data.to_csv(sep='\\t', index=False))\n",
    "    \n",
    "    # Unload changed .tsv file to Sumo\n",
    "    command = 'unloadtsv '+ w_influentTSV +' ;'\n",
    "    sumo.core.csumo_command_send(sumo.handle, command.encode('utf8'))\n",
    "    \n",
    "    # Load changed .tsv file to Sumo\n",
    "    command = 'loadtsv '+ w_influentTSV +' ;'\n",
    "    sumo.core.csumo_command_send(sumo.handle, command.encode('utf8'))\n",
    "    \n",
    "    # Rerun Sumo simulation\n",
    "    t_set = []\n",
    "    q_infl_set = []; snhx_infl_set = []; xtss_infl_set = []\n",
    "    q_effl_set = []; snhx_effl_set = []; xtss_effl_set = []\n",
    "    \n",
    "    sumo.run_model()\n",
    "    \n",
    "    while not sumo.simulation_finished:\n",
    "        time.sleep(0.01)\n",
    "    \n",
    "    # Create dictionary of variables\n",
    "    data_step = {}\n",
    "    data_step['t'] = t_set\n",
    "    data_step['q_infl'] = q_infl_set; data_step['snhx_infl'] = snhx_infl_set; data_step['xtss_infl'] = xtss_infl_set\n",
    "    data_step['q_effl'] = q_effl_set; data_step['snhx_effl'] = snhx_effl_set; data_step['xtss_effl'] = xtss_effl_set\n",
    "    \n",
    "    # Create a pandas dataframe for this dictionary and index by time (t)\n",
    "    df_step = pd.DataFrame.from_dict(data_step)\n",
    "    df_step.set_index('t')\n",
    "    \n",
    "    # Append to the response lists\n",
    "    q_infl_diff.append(max(df_step['q_infl'] - df_base['q_infl']))\n",
    "    q_effl_diff.append(max(df_step['q_effl'] - df_base['q_effl']))\n",
    "    snhx_effl_diff.append(max(df_step['snhx_effl'] - df_base['snhx_effl']))"
   ]
  },
  {
   "cell_type": "code",
   "execution_count": null,
   "metadata": {},
   "outputs": [],
   "source": [
    "# Plot last step trial\n",
    "df_base.plot(x = 't', kind='line', subplots='True', layout=(2,3))"
   ]
  },
  {
   "cell_type": "code",
   "execution_count": null,
   "metadata": {},
   "outputs": [],
   "source": [
    "# Plot last step trial\n",
    "df_step.plot(x = 't', kind='line', subplots='True', layout=(2,3))"
   ]
  },
  {
   "cell_type": "code",
   "execution_count": null,
   "metadata": {},
   "outputs": [],
   "source": [
    "# Compare the step responses to the magnitude of step increases in influent flow\n",
    "# Note we normalize to the entry in place 1 to be able to compare across scales of variables (e.g., flow v. SNHx concentration)\n",
    "# The 1:1 line (based on place 1 entries) is also plotted for comparison\n",
    "fig, axes = plt.subplots(1,2, figsize=(10,4))\n",
    "\n",
    "axes[0].scatter(np.divide(q_infl_diff,q_infl_diff[1]), np.divide(q_effl_diff,q_effl_diff[1]), label=\"Measured\")\n",
    "axes[0].plot([0,24], [0,24], label=\"1:1\")\n",
    "axes[0].set_xlabel('q_infl (normalized)')\n",
    "axes[0].set_ylabel('q_effl (normalized)')\n",
    "axes[0].legend()\n",
    "\n",
    "axes[1].scatter(np.divide(q_infl_diff,q_infl_diff[1]), np.divide(snhx_effl_diff,snhx_effl_diff[1]), label=\"Measured\")\n",
    "axes[1].plot([0,24], [0,24], label=\"1:1\")\n",
    "axes[1].set_xlabel('q_infl (normalized)')\n",
    "axes[1].set_ylabel('snhx_effl (normalized)')\n",
    "axes[1].legend()"
   ]
  },
  {
   "cell_type": "markdown",
   "metadata": {},
   "source": [
    "It is clear that the SNHx effluent concentration does not scale linearly to step increases in influent flow. Instead, we try a quadratic relationship.\n",
    "\n",
    "### Polynomial regression for relationship between influent flow and effluent SNHx concentration"
   ]
  },
  {
   "cell_type": "code",
   "execution_count": null,
   "metadata": {},
   "outputs": [],
   "source": [
    "# Import sklearn packages\n",
    "from sklearn.linear_model import LinearRegression\n",
    "from sklearn.preprocessing import PolynomialFeatures"
   ]
  },
  {
   "cell_type": "code",
   "execution_count": null,
   "metadata": {},
   "outputs": [],
   "source": [
    "# Initiate a 2-order polynomial\n",
    "poly = PolynomialFeatures(degree = 2)\n",
    "# Specify X as the normalized influent flow response and y as the normalized effluent SNHx concentration\n",
    "X = np.divide(q_infl_diff,q_infl_diff[1]).reshape(-1, 1)\n",
    "X_poly = poly.fit_transform(X)\n",
    "y = np.divide(snhx_effl_diff,snhx_effl_diff[1]).reshape(-1, 1)\n",
    "\n",
    "# Fit the polynomial\n",
    "poly.fit(X_poly, y)\n",
    "lin2 = LinearRegression()\n",
    "lin2.fit(X_poly, y)"
   ]
  },
  {
   "cell_type": "code",
   "execution_count": null,
   "metadata": {},
   "outputs": [],
   "source": [
    "# Plot the measured and modeled (via 2-order polynomial) for comparison\n",
    "fig, axes = plt.subplots(1,1, figsize=(10,4))\n",
    "\n",
    "axes.scatter(X, y, label=\"Measured\")\n",
    "axes.plot(X, lin2.predict(poly.fit_transform(X)), label=\"2-order polynomial\")\n",
    "axes.set_xlabel('q_infl (normalized)')\n",
    "axes.set_ylabel('snhx_effl (normalized)')\n",
    "axes.legend()"
   ]
  },
  {
   "cell_type": "code",
   "execution_count": null,
   "metadata": {},
   "outputs": [],
   "source": []
  },
  {
   "cell_type": "code",
   "execution_count": null,
   "metadata": {},
   "outputs": [],
   "source": []
  },
  {
   "cell_type": "code",
   "execution_count": null,
   "metadata": {},
   "outputs": [],
   "source": []
  },
  {
   "cell_type": "code",
   "execution_count": null,
   "metadata": {},
   "outputs": [],
   "source": []
  },
  {
   "cell_type": "code",
   "execution_count": null,
   "metadata": {},
   "outputs": [],
   "source": []
  },
  {
   "cell_type": "code",
   "execution_count": null,
   "metadata": {},
   "outputs": [],
   "source": []
  }
 ],
 "metadata": {
  "kernelspec": {
   "display_name": "Python 3",
   "language": "python",
   "name": "python3"
  },
  "language_info": {
   "codemirror_mode": {
    "name": "ipython",
    "version": 3
   },
   "file_extension": ".py",
   "mimetype": "text/x-python",
   "name": "python",
   "nbconvert_exporter": "python",
   "pygments_lexer": "ipython3",
   "version": "3.7.4"
  }
 },
 "nbformat": 4,
 "nbformat_minor": 2
}
