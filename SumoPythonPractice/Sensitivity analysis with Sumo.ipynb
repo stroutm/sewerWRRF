{
 "cells": [
  {
   "cell_type": "markdown",
   "metadata": {},
   "source": [
    "# Sensitivity analysis programmatically with Sumo - an introductory example\n",
    "\n",
    "Sumo's core simulator component can be accessed from external programs and can be commanded freely. To make this possible, this core component displays an API which we are going to access here from Python.\n",
    "\n",
    "To make things a bit more convenivent, we (Dynamita) have developed a Python module that wraps many of these API calls into more convenient calls to support high-level thinking about simulation-oriented tasks.\n",
    "\n",
    "This simple example shows how to use a previously built Sumo project in Python, and to do a simple parameter sensitivity analysis by repeated parameter changes and simulation runs. To be more specific, we are going to use one batch CSTR (the .sumo file can be found in this same folder), change the ammonia half-saturation coefficient and plot the ammonia concentration vs time for all our tested parameter values. \n",
    "\n",
    "As a first step, we import some tools from external modules:"
   ]
  },
  {
   "cell_type": "code",
   "execution_count": 1,
   "metadata": {},
   "outputs": [],
   "source": [
    "from dynamita.sumo import *\n",
    "\n",
    "import numpy\n",
    "import time\n",
    "import matplotlib.pyplot as plt\n",
    "%matplotlib notebook"
   ]
  },
  {
   "cell_type": "markdown",
   "metadata": {},
   "source": [
    "Here below we load Sumo in this environment. The call takes two arguments:\n",
    "\n",
    "- the first one is the install path of Sumo (to be more precise, the path where the **sumocore.dll** file can be found)\n",
    "- the second one is the path to the license file"
   ]
  },
  {
   "cell_type": "code",
   "execution_count": 2,
   "metadata": {},
   "outputs": [
    {
     "name": "stdout",
     "output_type": "stream",
     "text": [
      "License OK...\n"
     ]
    }
   ],
   "source": [
    "sumo = Sumo(sumoPath=\"C:/Users/Sara/AppData/Local/Dynamita/Sumo19\",\n",
    "           licenseFile=r\"C:/Users/Sara/Desktop/sewerWRRF/networklicense.sumolic\")"
   ]
  },
  {
   "cell_type": "markdown",
   "metadata": {},
   "source": [
    "This next one will take some explanation of how simulations in Sumo are structured internally:\n",
    "\n",
    "As a fundamental rule, when the user starts a simulation, Sumo will do the dynamic simulation uninterrupted until the stop time is reached. Communication in general takes place only in data communication intervals (there are a few exceptions, e.g. if we provide dynamic data files then we can influence the simulation even outside data communication intervals, but this does not strictly belong to this basic explanation).\n",
    "\n",
    "However, Sumo does not know what the user wants to do at data communication intervals, so it leaves for her/him to define the required behavior. This is done by defining a custom function here below. Anything can be inserted in this function; our example makes two queries to the core: the first one is for the current simulation time, the second one is the current ammonia concentration.\n",
    "\n",
    "The function can be named arbitrarily; the only requirement is that it has to receive the previously created sumo object as its argument."
   ]
  },
  {
   "cell_type": "markdown",
   "metadata": {},
   "source": [
    "## Two different commands to get the position of a variable depending on whether it is an array or scalar\n",
    "\n",
    "- if an array, use `sumo.core.csumo_var_get_pvtarray_pos()` function\n",
    "- if a scalar, use `sumo.core.csumo_var_get_pvt_pos()` function\n",
    "\n",
    "To know whether a variable is a scalar or an array, I normally open the SteadyState.ss file under the project's temporary directory and see the xml code for the variable I am interested in. For example: `<real name=\"Sumo__Plant__CSTR__XTSS\">` means a scalar, while `<realarray name=\"Sumo__Plant__CSTR__SNHx\" dimensions=\"1\">` means an array."
   ]
  },
  {
   "cell_type": "code",
   "execution_count": 3,
   "metadata": {
    "jupyter": {
     "outputs_hidden": true
    }
   },
   "outputs": [],
   "source": [
    "def datacomm_callback(sumo):\n",
    "    t.append(sumo.core.csumo_var_get_time_double(sumo.handle))\n",
    "    snhx_cstr.append(sumo.core.csumo_var_get_pvtarray_pos(sumo.handle, snhx_cstr_pos, 0))\n",
    "    xtss_cstr.append(sumo.core.csumo_var_get_pvt_pos(sumo.handle, xtss_cstr_pos, 0))\n",
    "    snhx_effl.append(sumo.core.csumo_var_get_pvt_pos(sumo.handle, snhx_effl_pos))\n",
    "    xtss_effl.append(sumo.core.csumo_var_get_pvt_pos(sumo.handle, xtss_effl_pos))\n",
    "    return 0"
   ]
  },
  {
   "cell_type": "markdown",
   "metadata": {},
   "source": [
    "After all these preparations let us load our project. One important side note here is that the parameters modified in the GUI (e.g. in the 'Input setup' mode) will not appear when we load the project from here. The reason is that those modifications are stored in a different file within the .sumo project, but when we load the model from here, we only unpack the .dll file itself.\n",
    "\n",
    "This will probably change in a future version of the Sumo Python tools but for now all those settings that one might have applied to the GUI, must be repeated here manually via 'set' commands. For further information on how to use the 'set' command, please consult the Sumo documentations."
   ]
  },
  {
   "cell_type": "code",
   "execution_count": 4,
   "metadata": {},
   "outputs": [
    {
     "name": "stdout",
     "output_type": "stream",
     "text": [
      "No model is loaded\n"
     ]
    },
    {
     "data": {
      "text/plain": [
       "0"
      ]
     },
     "execution_count": 4,
     "metadata": {},
     "output_type": "execute_result"
    }
   ],
   "source": [
    "# Unload to properly restart user model. Of course it will give you error if there is no loaded model, which is okay.\n",
    "sumo.unload_model()\n",
    "sumo.load_model('Sumo_Models/A2O plant.sumo')"
   ]
  },
  {
   "cell_type": "markdown",
   "metadata": {},
   "source": [
    "### This is important (Added by Zerihun)\n",
    "\n",
    "You need to find your models initialization script and copy it to the current folder (where you model is).\n",
    "\n",
    "To get this file, first open your model in the Sumo UI, and from View > Directories > Project Library go to the temp folder of the model. Then, copy the file with .scs extension and edit it as needed. For example correct the path on the top."
   ]
  },
  {
   "cell_type": "code",
   "execution_count": 5,
   "metadata": {},
   "outputs": [
    {
     "data": {
      "text/plain": [
       "1"
      ]
     },
     "execution_count": 5,
     "metadata": {},
     "output_type": "execute_result"
    }
   ],
   "source": [
    "sumo.core.csumo_command_send(sumo.handle, b'execute script_Initialize.scs;')"
   ]
  },
  {
   "cell_type": "markdown",
   "metadata": {},
   "source": [
    "This command below lets Sumo know about our custom datacomm function:"
   ]
  },
  {
   "cell_type": "code",
   "execution_count": 6,
   "metadata": {
    "jupyter": {
     "outputs_hidden": true
    }
   },
   "outputs": [],
   "source": [
    "sumo.register_datacomm_callback(datacomm_callback)"
   ]
  },
  {
   "cell_type": "markdown",
   "metadata": {},
   "source": [
    "As we are on our own, we need to find our variables inside the model ourselves. This can be done either by the variable name, or using the fast lane, via the variable's internal position (This is waaay faster. Sumo stores the model variables internally in a table. This position means roughly which row our variable is in.). So here below we retrieve the position of the ammonia concentration.\n",
    "\n",
    "Oh, and BTW, here are some examples on how to use the 'set' command as well. "
   ]
  },
  {
   "cell_type": "code",
   "execution_count": 7,
   "metadata": {},
   "outputs": [],
   "source": [
    "snhx_cstr_pos = sumo.core.csumo_model_get_variable_info_pos(sumo.handle, b'Sumo__Plant__CSTR__SNHx')\n",
    "xtss_cstr_pos = sumo.core.csumo_model_get_variable_info_pos(sumo.handle, b'Sumo__Plant__CSTR__XTSS')\n",
    "snhx_effl_pos = sumo.core.csumo_model_get_variable_info_pos(sumo.handle, b'Sumo__Plant__Effluent__SNHx')\n",
    "xtss_effl_pos = sumo.core.csumo_model_get_variable_info_pos(sumo.handle, b'Sumo__Plant__Effluent__XTSS')\n",
    "#sumo.core.csumo_command_send(sumo.handle, b'set Sumo__Plant__CSTR__XOHO_0 0;')\n",
    "#sumo.core.csumo_command_send(sumo.handle, b'set Sumo__Plant__CSTR__XPAO_0 0;')\n",
    "#sumo.core.csumo_command_send(sumo.handle, b'set Sumo__Plant__CSTR__SNHx_0 5;')"
   ]
  },
  {
   "cell_type": "markdown",
   "metadata": {},
   "source": [
    "Just to demonstrate that the variable position is indeed only a number:"
   ]
  },
  {
   "cell_type": "code",
   "execution_count": 8,
   "metadata": {},
   "outputs": [
    {
     "data": {
      "text/plain": [
       "[19, 4309, 10985, 1597]"
      ]
     },
     "execution_count": 8,
     "metadata": {},
     "output_type": "execute_result"
    }
   ],
   "source": [
    "[snhx_cstr_pos, xtss_cstr_pos, snhx_effl_pos, xtss_effl_pos]"
   ]
  },
  {
   "cell_type": "markdown",
   "metadata": {},
   "source": [
    "This below is done in the 'Simulation' mode in the GUI - arguments are taken in msecs:"
   ]
  },
  {
   "cell_type": "code",
   "execution_count": 9,
   "metadata": {
    "jupyter": {
     "outputs_hidden": true
    }
   },
   "outputs": [],
   "source": [
    "sumo.set_stopTime(10*24*60*60*1000)\n",
    "sumo.set_dataComm(50*60*1000)"
   ]
  },
  {
   "cell_type": "markdown",
   "metadata": {},
   "source": [
    "Let's define some storage space for our simulation results. For the sake of simplicity we use raw Python lists."
   ]
  },
  {
   "cell_type": "code",
   "execution_count": 10,
   "metadata": {
    "jupyter": {
     "outputs_hidden": true
    }
   },
   "outputs": [],
   "source": [
    "t = []\n",
    "snhx_cstr = []\n",
    "xtss_cstr = []\n",
    "snhx_effl = []\n",
    "xtss_effl = []"
   ]
  },
  {
   "cell_type": "markdown",
   "metadata": {},
   "source": [
    "First let's just run one simulation with the default parameter values:"
   ]
  },
  {
   "cell_type": "code",
   "execution_count": 11,
   "metadata": {
    "jupyter": {
     "outputs_hidden": true
    }
   },
   "outputs": [],
   "source": [
    "sumo.run_model()\n",
    "while not sumo.simulation_finished:\n",
    "    time.sleep(0.01)"
   ]
  },
  {
   "cell_type": "markdown",
   "metadata": {},
   "source": [
    "Looking at our previously defined lists we can see that now they are magically filled with the simulation results. \n",
    "\n",
    "Actually there is no magic in the process; while Sumo was running the simulation, it called our previously defined *datacomm_callback* function every time it reached the data communication interval which we set by the set_dataComm call above."
   ]
  },
  {
   "cell_type": "code",
   "execution_count": 12,
   "metadata": {},
   "outputs": [
    {
     "data": {
      "text/plain": [
       "[1.0, 3324.747492447019, 1.0, 3324.747492447019]"
      ]
     },
     "execution_count": 12,
     "metadata": {},
     "output_type": "execute_result"
    }
   ],
   "source": [
    "snhx_cstr\n",
    "xtss_cstr\n",
    "snhx_effl\n",
    "xtss_effl\n",
    "t\n",
    "[max(snhx_cstr), max(xtss_cstr), max(snhx_effl), max(xtss_effl)]"
   ]
  },
  {
   "cell_type": "markdown",
   "metadata": {},
   "source": [
    "Let's plot our simulation results:"
   ]
  },
  {
   "cell_type": "code",
   "execution_count": 13,
   "metadata": {},
   "outputs": [
    {
     "data": {
      "image/png": "[encoded data removed]",
      "text/plain": [
       "<Figure size 1008x288 with 4 Axes>"
      ]
     },
     "metadata": {
      "needs_background": "light"
     },
     "output_type": "display_data"
    }
   ],
   "source": [
    "plt.rcParams['axes.grid'] = True\n",
    "\n",
    "fig, (axs) = plt.subplots(1,4, figsize=(14,4))\n",
    "\n",
    "axs[0].set_xlabel('time'); axs[0].set_ylabel('SNHx, CSTR')\n",
    "axs[0].plot(t, snhx_cstr)\n",
    "\n",
    "axs[1].set_xlabel('time'); axs[1].set_ylabel('SNHx, Effluent')\n",
    "axs[1].plot(t, snhx_effl)\n",
    "\n",
    "axs[2].set_xlabel('time'); axs[2].set_ylabel('XTSS, CSTR')\n",
    "axs[2].plot(t, xtss_cstr)\n",
    "\n",
    "axs[3].set_xlabel('time'); axs[3].set_ylabel('XTSS, Effluent')\n",
    "axs[3].plot(t, xtss_effl)\n",
    "\n",
    "plt.tight_layout()\n",
    "#fig.canvas.draw()"
   ]
  },
  {
   "cell_type": "markdown",
   "metadata": {},
   "source": [
    "OK, let's start some serious work now using the tools demonstrated above:"
   ]
  },
  {
   "cell_type": "code",
   "execution_count": 14,
   "metadata": {
    "jupyter": {
     "outputs_hidden": true
    }
   },
   "outputs": [],
   "source": [
    "# Let's store all the sensitivity analysis results in one data structure.\n",
    "from collections import OrderedDict\n",
    "snhx_sensitivity_data = OrderedDict()"
   ]
  },
  {
   "cell_type": "code",
   "execution_count": 15,
   "metadata": {},
   "outputs": [],
   "source": [
    "# So we are going to change the ammonia half-saturation coefficient. \n",
    "# For now we just create a list of our desired values manually. \n",
    "# If required, Python provides tools to create the required values programmatically - see e.g. the range or linspace methods.\n",
    "for KNHx in [0.2, 0.4, 0.6, 0.8, 1.0]:\n",
    "    command = 'set Sumo__Plant__Sumo1__KNHx_NITO_AS ' + str(KNHx) + ';'\n",
    "    sumo.core.csumo_command_send(sumo.handle, command.encode('utf8'))\n",
    "    \n",
    "    # Do not forget to empty our lists before a simulation, otherwise\n",
    "    # new simulation results would just be appended.\n",
    "    t = []\n",
    "    snhx_cstr = []\n",
    "    \n",
    "    # Let's have Sumo do some work\n",
    "    sumo.run_model()\n",
    "    # The run_model is an asynchronous call, so we need to wait until\n",
    "    # the current run is finished, otherwise we would mess up our simulations\n",
    "    while not sumo.simulation_finished:\n",
    "        time.sleep(0.01)\n",
    "\n",
    "    # Good, we got our data in the list, let's store them in our dictionary, using \n",
    "    # KNHx as the label\n",
    "    snhx_sensitivity_data[KNHx] = snhx_cstr"
   ]
  },
  {
   "cell_type": "markdown",
   "metadata": {},
   "source": [
    "...and finally let's plot the results. Nothing really prevents us from updating our plots inside the sensitivity analysis loop either - that way we would get a graphical feedback about the progress; implementing this feature will be a good user exercise... :P"
   ]
  },
  {
   "cell_type": "code",
   "execution_count": 16,
   "metadata": {},
   "outputs": [
    {
     "data": {
      "image/png": "[encoded data removed]",
      "text/plain": [
       "<Figure size 432x288 with 1 Axes>"
      ]
     },
     "metadata": {
      "needs_background": "light"
     },
     "output_type": "display_data"
    }
   ],
   "source": [
    "fig, axes = plt.subplots(1,1)\n",
    "axes.set_xlabel('time')\n",
    "axes.set_ylabel('SNHx')\n",
    "\n",
    "for KNHx, snhx in snhx_sensitivity_data.items():\n",
    "    axes.plot(t, snhx_cstr, label=str(KNHx))\n",
    "    plt.legend(loc='upper right', title='Legend')\n",
    "    fig.canvas.draw()"
   ]
  },
  {
   "cell_type": "code",
   "execution_count": null,
   "metadata": {
    "jupyter": {
     "outputs_hidden": true
    }
   },
   "outputs": [],
   "source": []
  }
 ],
 "metadata": {
  "kernelspec": {
   "display_name": "Python 3",
   "language": "python",
   "name": "python3"
  },
  "language_info": {
   "codemirror_mode": {
    "name": "ipython",
    "version": 3
   },
   "file_extension": ".py",
   "mimetype": "text/x-python",
   "name": "python",
   "nbconvert_exporter": "python",
   "pygments_lexer": "ipython3",
   "version": "3.7.4"
  }
 },
 "nbformat": 4,
 "nbformat_minor": 4
}
