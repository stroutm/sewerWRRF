{
 "cells": [
  {
   "cell_type": "code",
   "execution_count": 1,
   "metadata": {},
   "outputs": [],
   "source": [
    "from dynamita.sumo import *\n",
    "\n",
    "import numpy as np\n",
    "import time\n",
    "import copy as cp\n",
    "import matplotlib.pyplot as plt\n",
    "%matplotlib notebook"
   ]
  },
  {
   "cell_type": "code",
   "execution_count": 2,
   "metadata": {},
   "outputs": [
    {
     "name": "stdout",
     "output_type": "stream",
     "text": [
      "License OK...\n"
     ]
    }
   ],
   "source": [
    "sumo = Sumo(sumoPath=\"C:/Users/Sara/AppData/Local/Dynamita/Sumo19\",\n",
    "           licenseFile=r\"C:/Users/Sara/Desktop/sewerWRRF/networklicense.sumolic\")"
   ]
  },
  {
   "cell_type": "markdown",
   "metadata": {},
   "source": [
    "To load and run a dynamic input, save the table in a .tsv file.\n",
    "To make it easy, first do it from the GUI and it will create the tsv table in the temporary project's directory, which is the same place the initialization script is.\n",
    "Copy the new initialization script along with it.\n",
    "If the initialization script is opened, there will be a line with the command \"load tsv ... xxx.tsv\""
   ]
  },
  {
   "cell_type": "code",
   "execution_count": 3,
   "metadata": {},
   "outputs": [
    {
     "name": "stdout",
     "output_type": "stream",
     "text": [
      "No model is loaded\n",
      "530021 Set: Sumo__StopTime to 0\n",
      "530021 Set: Sumo__DataComm to 3600000\n",
      "530021 Set: Sumo__PlantName to C:\\Users\\DYNAMI~1\\AppData\\Local\\Dynamita\\Sumo18\\TMP~1\\xjzoiwqs.cba\\SUMOPR~1.XML\n",
      "530049 Core loop started.\n",
      "530036 Script file script_Initialize_dynamic.scs loaded.\n",
      "530007 Path set to: \"C:/Users/Sara/AppData/Local/Dynamita/Sumo19/.tmp/t0g5mkii.lrm\".\n",
      "530020 Set mode: dynamic\n",
      "530021 Set: Sumo__Plant__CSTR__param__L_V to 1000\n",
      "530021 Set: Sumo__Plant__CSTR__param__Qair_N to 0\n",
      "530021 Set: Sumo__Plant__CSTR2__param__L_V to 1500\n",
      "530021 Set: Sumo__Plant__CSTR2__param__Qair_N to 0\n",
      "530021 Set: Sumo__Plant__CSTR3__param__L_V to 4500\n",
      "530021 Set: Sumo__Plant__Sideflowdivider__param__Qpumped_target to 72000\n",
      "530030 TSV file \"C:\\Users\\Sara\\Desktop\\sewerWRRF\\SumoPythonPractice\\Influent_Table1.tsv\" loaded.\n",
      "530021 Set: Sumo__StopTime to 864000000\n",
      "530021 Set: Sumo__DataComm to 3000000\n"
     ]
    }
   ],
   "source": [
    "def datacomm_callback(sumo):\n",
    "    t_set.append(sumo.core.csumo_var_get_time_double(sumo.handle))\n",
    "    \n",
    "    q_infl_set.append(sumo.core.csumo_var_get_pvt_pos(sumo.handle, q_infl_pos))\n",
    "    snhx_infl_set.append(sumo.core.csumo_var_get_pvt_pos(sumo.handle, snhx_infl_pos))\n",
    "    \n",
    "    q_effl_set.append(sumo.core.csumo_var_get_pvt_pos(sumo.handle, q_effl_pos))\n",
    "    snhx_effl_set.append(sumo.core.csumo_var_get_pvt_pos(sumo.handle, snhx_effl_pos))\n",
    "    \n",
    "    return 0\n",
    "\n",
    "sumo.unload_model()\n",
    "sumo.load_model('A2O plant_dynamic.sumo')\n",
    "    \n",
    "sumo.core.csumo_command_send(sumo.handle, b'execute script_Initialize_dynamic.scs;')\n",
    "    \n",
    "sumo.register_datacomm_callback(datacomm_callback)\n",
    "\n",
    "def message_callback(sumo):\n",
    "    for message in sumo.messages:\n",
    "        print(message)\n",
    "    sumo.messages = []\n",
    "    return 0\n",
    "\n",
    "sumo.register_message_callback(message_callback)\n",
    "\n",
    "sumo.set_stopTime(10*24*60*60*1000)\n",
    "sumo.set_dataComm(50*60*1000)"
   ]
  },
  {
   "cell_type": "code",
   "execution_count": 4,
   "metadata": {},
   "outputs": [],
   "source": [
    "# Store positions for variables of interest\n",
    "q_infl_pos = sumo.core.csumo_model_get_variable_info_pos(sumo.handle, b'Sumo__Plant__Influent__Q')\n",
    "snhx_infl_pos = sumo.core.csumo_model_get_variable_info_pos(sumo.handle, b'Sumo__Plant__Influent__SNHx')\n",
    "\n",
    "q_effl_pos = sumo.core.csumo_model_get_variable_info_pos(sumo.handle, b'Sumo__Plant__Effluent__Q')\n",
    "snhx_effl_pos = sumo.core.csumo_model_get_variable_info_pos(sumo.handle, b'Sumo__Plant__Effluent__SNHx')"
   ]
  },
  {
   "cell_type": "code",
   "execution_count": 5,
   "metadata": {},
   "outputs": [],
   "source": [
    "infl = {}\n",
    "effl = {}"
   ]
  },
  {
   "cell_type": "code",
   "execution_count": 6,
   "metadata": {},
   "outputs": [
    {
     "name": "stdout",
     "output_type": "stream",
     "text": [
      "530002 Simulation started.\n",
      "530004 Simulation ended.\n"
     ]
    }
   ],
   "source": [
    "#command = 'set Sumo__Plant__Influent__param__Q ' + str(q) + ';'\n",
    "\n",
    "#sumo.core.csumo_command_send(sumo.handle, command.encode('utf8'))\n",
    "\n",
    "t_set = []\n",
    "q_infl_set = []\n",
    "snhx_infl_set = []\n",
    "\n",
    "q_effl_set = []\n",
    "snhx_effl_set = []\n",
    "\n",
    "sumo.run_model()\n",
    "\n",
    "while not sumo.simulation_finished:\n",
    "    time.sleep(0.01)\n",
    "\n",
    "#infl[q] = np.array([q_infl_set, snhx_infl_set])\n",
    "\n",
    "#effl[q] = np.array([q_effl_set, snhx_effl_set])"
   ]
  },
  {
   "cell_type": "code",
   "execution_count": 7,
   "metadata": {},
   "outputs": [
    {
     "data": {
      "text/plain": [
       "<matplotlib.legend.Legend at 0x3c1f830>"
      ]
     },
     "execution_count": 7,
     "metadata": {},
     "output_type": "execute_result"
    },
    {
     "data": {
      "image/png": "[encoded data removed]",
      "text/plain": [
       "<Figure size 1008x432 with 2 Axes>"
      ]
     },
     "metadata": {
      "needs_background": "light"
     },
     "output_type": "display_data"
    }
   ],
   "source": [
    "fig, axes = plt.subplots(1,2, figsize=(14,6))\n",
    "\n",
    "axes[0].set_xlabel('time')\n",
    "axes[0].set_ylabel('Eff Q')\n",
    "\n",
    "axes[1].set_xlabel('time')\n",
    "axes[1].set_ylabel('Eff N')\n",
    "\n",
    "axes[0].plot(t_set, q_infl_set, label='Q')\n",
    "axes[0].plot(t_set, q_effl_set, label='Q')\n",
    "\n",
    "axes[1].plot(t_set, snhx_effl_set, label='SNHx')\n",
    "\n",
    "#for q, array in effl.items():\n",
    "#    # Flow\n",
    "#    axes[0].plot(t_set, array[0], label='Q, '+str(q))\n",
    "#    # Nitrogen: SNHx\n",
    "#    axes[1].plot(t_set, array[1], label='SNHx, '+str(q))\n",
    "\n",
    "axes[0].legend(loc='upper right')\n",
    "axes[1].legend(loc='upper right')"
   ]
  },
  {
   "cell_type": "code",
   "execution_count": null,
   "metadata": {},
   "outputs": [],
   "source": []
  }
 ],
 "metadata": {
  "kernelspec": {
   "display_name": "Python 3",
   "language": "python",
   "name": "python3"
  },
  "language_info": {
   "codemirror_mode": {
    "name": "ipython",
    "version": 3
   },
   "file_extension": ".py",
   "mimetype": "text/x-python",
   "name": "python",
   "nbconvert_exporter": "python",
   "pygments_lexer": "ipython3",
   "version": "3.7.4"
  }
 },
 "nbformat": 4,
 "nbformat_minor": 2
}
