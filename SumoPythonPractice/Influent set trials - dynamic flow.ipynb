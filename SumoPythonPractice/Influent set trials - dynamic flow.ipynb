{
 "cells": [
  {
   "cell_type": "code",
   "execution_count": 1,
   "metadata": {},
   "outputs": [],
   "source": [
    "from dynamita.sumo import *\n",
    "\n",
    "import numpy as np\n",
    "import time\n",
    "import copy as cp\n",
    "import matplotlib.pyplot as plt\n",
    "%matplotlib notebook"
   ]
  },
  {
   "cell_type": "code",
   "execution_count": 2,
   "metadata": {},
   "outputs": [
    {
     "name": "stdout",
     "output_type": "stream",
     "text": [
      "License OK...\n"
     ]
    }
   ],
   "source": [
    "sumo = Sumo(sumoPath=\"C:/Users/Sara/AppData/Local/Dynamita/Sumo19\",\n",
    "           licenseFile=r\"C:/Users/Sara/Desktop/sewerWRRF/networklicense.sumolic\")"
   ]
  },
  {
   "cell_type": "markdown",
   "metadata": {},
   "source": [
    "To load and run a dynamic input:\n",
    "1. Save the dynamic input(s) in a .tsv file.\n",
    "  - To make this easy, you can first do it from the Sumo GUI. This will create a .tsv file in the project's temporary directory (View > Directories > Project Directory) and \"loadtsv ...\" will be logged in the Core Window.\n",
    "2. Copy the new initialization script and dynamic influent .tsv file into the working folder.\n",
    "3. Make sure the command \"loadtsv ... xxx.tsv\" is in the initialization script.\n",
    "  - If it is not there, find it in the Core Window and paste it into the initialization script (the one in the working folder). It shouldn't matter where it is in the script.\n",
    "  - Make sure the .tsv file path is updated to the working folder."
   ]
  },
  {
   "cell_type": "code",
   "execution_count": 3,
   "metadata": {},
   "outputs": [
    {
     "name": "stdout",
     "output_type": "stream",
     "text": [
      "No model is loaded\n",
      "530021 Set: Sumo__StopTime to 0\n",
      "530021 Set: Sumo__DataComm to 3600000\n",
      "530021 Set: Sumo__PlantName to C:\\Users\\DYNAMI~1\\AppData\\Local\\Dynamita\\Sumo18\\TMP~1\\xjzoiwqs.cba\\SUMOPR~1.XML\n",
      "530049 Core loop started.\n",
      "530036 Script file script_Initialize_dynamic.scs loaded.\n",
      "530007 Path set to: \"C:/Users/Sara/AppData/Local/Dynamita/Sumo19/.tmp/t0g5mkii.lrm\".\n",
      "530020 Set mode: dynamic\n",
      "530021 Set: Sumo__Plant__CSTR__param__L_V to 1000\n",
      "530021 Set: Sumo__Plant__CSTR__param__Qair_N to 0\n",
      "530021 Set: Sumo__Plant__CSTR2__param__L_V to 1500\n",
      "530021 Set: Sumo__Plant__CSTR2__param__Qair_N to 0\n",
      "530021 Set: Sumo__Plant__CSTR3__param__L_V to 4500\n",
      "530021 Set: Sumo__Plant__Sideflowdivider__param__Qpumped_target to 72000\n",
      "530030 TSV file \"C:\\Users\\Sara\\Desktop\\sewerWRRF\\SumoPythonPractice\\Influent_Table1.tsv\" loaded.\n",
      "530021 Set: Sumo__StopTime to 864000000\n",
      "530021 Set: Sumo__DataComm to 3000000\n"
     ]
    }
   ],
   "source": [
    "def datacomm_callback(sumo):\n",
    "    t_set.append(sumo.core.csumo_var_get_time_double(sumo.handle))\n",
    "    \n",
    "    q_infl_set.append(sumo.core.csumo_var_get_pvt_pos(sumo.handle, q_infl_pos))\n",
    "    snhx_infl_set.append(sumo.core.csumo_var_get_pvt_pos(sumo.handle, snhx_infl_pos))\n",
    "    \n",
    "    q_effl_set.append(sumo.core.csumo_var_get_pvt_pos(sumo.handle, q_effl_pos))\n",
    "    snhx_effl_set.append(sumo.core.csumo_var_get_pvt_pos(sumo.handle, snhx_effl_pos))\n",
    "    \n",
    "    return 0\n",
    "\n",
    "sumo.unload_model()\n",
    "sumo.load_model('A2O plant_dynamic.sumo')\n",
    "    \n",
    "sumo.core.csumo_command_send(sumo.handle, b'execute script_Initialize_dynamic.scs;')\n",
    "    \n",
    "sumo.register_datacomm_callback(datacomm_callback)\n",
    "\n",
    "def message_callback(sumo):\n",
    "    for message in sumo.messages:\n",
    "        print(message)\n",
    "    sumo.messages = []\n",
    "    return 0\n",
    "\n",
    "sumo.register_message_callback(message_callback)\n",
    "\n",
    "sumo.set_stopTime(10*24*60*60*1000)\n",
    "sumo.set_dataComm(50*60*1000)"
   ]
  },
  {
   "cell_type": "code",
   "execution_count": 4,
   "metadata": {},
   "outputs": [],
   "source": [
    "# Store positions for variables of interest\n",
    "q_infl_pos = sumo.core.csumo_model_get_variable_info_pos(sumo.handle, b'Sumo__Plant__Influent__Q')\n",
    "snhx_infl_pos = sumo.core.csumo_model_get_variable_info_pos(sumo.handle, b'Sumo__Plant__Influent__SNHx')\n",
    "\n",
    "q_effl_pos = sumo.core.csumo_model_get_variable_info_pos(sumo.handle, b'Sumo__Plant__Effluent__Q')\n",
    "snhx_effl_pos = sumo.core.csumo_model_get_variable_info_pos(sumo.handle, b'Sumo__Plant__Effluent__SNHx')"
   ]
  },
  {
   "cell_type": "code",
   "execution_count": 5,
   "metadata": {},
   "outputs": [
    {
     "name": "stdout",
     "output_type": "stream",
     "text": [
      "530002 Simulation started.\n",
      "530004 Simulation ended.\n"
     ]
    }
   ],
   "source": [
    "t_set = []\n",
    "q_infl_set = []\n",
    "snhx_infl_set = []\n",
    "\n",
    "q_effl_set = []\n",
    "snhx_effl_set = []\n",
    "\n",
    "sumo.run_model()\n",
    "\n",
    "while not sumo.simulation_finished:\n",
    "    time.sleep(0.01)"
   ]
  },
  {
   "cell_type": "code",
   "execution_count": null,
   "metadata": {},
   "outputs": [],
   "source": [
    "fig, axes = plt.subplots(1,2, figsize=(14,6))\n",
    "\n",
    "axes[0].set_xlabel('time')\n",
    "axes[0].set_ylabel('Eff Q')\n",
    "\n",
    "axes[1].set_xlabel('time')\n",
    "axes[1].set_ylabel('Eff N')\n",
    "\n",
    "axes[0].plot(t_set, q_infl_set, label='Q influent')\n",
    "axes[0].plot(t_set, q_effl_set, label='Q effluent')\n",
    "\n",
    "axes[1].plot(t_set, snhx_effl_set, label='SNHx')\n",
    "\n",
    "axes[0].legend(loc='upper right')\n",
    "axes[1].legend(loc='upper right')"
   ]
  },
  {
   "cell_type": "markdown",
   "metadata": {},
   "source": [
    "### Editing the dynamic influent .tsv file"
   ]
  },
  {
   "cell_type": "code",
   "execution_count": null,
   "metadata": {},
   "outputs": [],
   "source": [
    "import pandas as pd"
   ]
  },
  {
   "cell_type": "code",
   "execution_count": null,
   "metadata": {},
   "outputs": [],
   "source": [
    "# Specify .tsv for reading and .tsv for writing\n",
    "r_influentTSV = 'C:/Users/Sara/Desktop/sewerWRRF/SumoPythonPractice/Influent_Table1.tsv'\n",
    "w_influentTSV = 'C:/Users/Sara/Desktop/sewerWRRF/SumoPythonPractice/Influent_Table1_edit.tsv'\n",
    "\n",
    "# Read the original .tsv file as a pandas table\n",
    "r_influentTSV_data = pd.read_table(r_influentTSV, sep='\\t')\n",
    "\n",
    "# Make a change to the original .tsv file\n",
    "r_influentTSV_data.loc[1][\"Sumo__Plant__Influent__param__Q\"] = 5000\n",
    "r_influentTSV_data\n",
    "\n",
    "# Write the changed .tsv file to a new file\n",
    "with open(w_influentTSV,'w') as write_tsv:\n",
    "    write_tsv.write(r_influentTSV_data.to_csv(sep='\\t', index=False))"
   ]
  },
  {
   "cell_type": "code",
   "execution_count": null,
   "metadata": {},
   "outputs": [],
   "source": [
    "# Load the changed .tsv file to Sumo\n",
    "#command = 'set Sumo__Plant__param__Sumo1__muNITO 1.95;'\n",
    "#command = 'set Sumo__Plant__param__Sumo1__muNITO ' + str(mu) + ';'\n",
    "#sumo.core.csumo_command_send(sumo.handle, command.encode('utf8'))\n",
    "\n",
    "command = 'loadtsv '+ w_influentTSV +' ;'\n",
    "sumo.core.csumo_command_send(sumo.handle, command.encode('utf8'))\n",
    "#sumo.core.csumo_command_send(sumo.handle, b'loadtsv \"C:\\Users\\Sara\\Desktop\\sewerWRRF\\SumoPythonPractice\\Influent_Table1.tsv\" ;')"
   ]
  },
  {
   "cell_type": "code",
   "execution_count": null,
   "metadata": {},
   "outputs": [],
   "source": [
    "t_set = []\n",
    "q_infl_set = []\n",
    "snhx_infl_set = []\n",
    "\n",
    "q_effl_set = []\n",
    "snhx_effl_set = []\n",
    "\n",
    "sumo.run_model()\n",
    "\n",
    "while not sumo.simulation_finished:\n",
    "    time.sleep(0.01)"
   ]
  },
  {
   "cell_type": "code",
   "execution_count": null,
   "metadata": {},
   "outputs": [],
   "source": [
    "fig, axes = plt.subplots(1,2, figsize=(14,6))\n",
    "\n",
    "axes[0].set_xlabel('time')\n",
    "axes[0].set_ylabel('Eff Q')\n",
    "\n",
    "axes[1].set_xlabel('time')\n",
    "axes[1].set_ylabel('Eff N')\n",
    "\n",
    "axes[0].plot(t_set, q_infl_set, label='Q influent')\n",
    "axes[0].plot(t_set, q_effl_set, label='Q effluent')\n",
    "\n",
    "axes[1].plot(t_set, snhx_effl_set, label='SNHx')\n",
    "\n",
    "axes[0].legend(loc='upper right')\n",
    "axes[1].legend(loc='upper right')"
   ]
  },
  {
   "cell_type": "code",
   "execution_count": null,
   "metadata": {},
   "outputs": [],
   "source": []
  }
 ],
 "metadata": {
  "kernelspec": {
   "display_name": "Python 3",
   "language": "python",
   "name": "python3"
  },
  "language_info": {
   "codemirror_mode": {
    "name": "ipython",
    "version": 3
   },
   "file_extension": ".py",
   "mimetype": "text/x-python",
   "name": "python",
   "nbconvert_exporter": "python",
   "pygments_lexer": "ipython3",
   "version": "3.7.4"
  }
 },
 "nbformat": 4,
 "nbformat_minor": 2
}
